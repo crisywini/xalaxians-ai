{
 "cells": [
  {
   "cell_type": "markdown",
   "metadata": {},
   "source": [
    "Dependencies"
   ]
  },
  {
   "cell_type": "code",
   "execution_count": 96,
   "metadata": {},
   "outputs": [],
   "source": [
    "import torch \n",
    "from transformers import (\n",
    "    BertForQuestionAnswering,\n",
    "    BertTokenizerFast\n",
    ")\n",
    "\n",
    "from scipy.special import softmax\n",
    "import plotly.express as px\n",
    "import pandas as pd\n",
    "import numpy as np "
   ]
  },
  {
   "cell_type": "code",
   "execution_count": 97,
   "metadata": {},
   "outputs": [],
   "source": [
    "context = \"The giraffe is a large African hoofed mammal belonging to the genus Giraffa. It is the tallest living terrestrial animal and the largest ruminant on Earth. Traditionally, giraffes were thought to be one species, Giraffa camelopardalis, with nine subspecies. Most recently, researchers proposed dividing them into up to eight extant species due to new research into their mitochondrial and nuclear DNA, as well as morphological measurements. Seven other extinct species of Giraffa are known from the fossil record.\"\n",
    "question = \"How many giraffes species are there?\""
   ]
  },
  {
   "cell_type": "code",
   "execution_count": 98,
   "metadata": {},
   "outputs": [
    {
     "name": "stderr",
     "output_type": "stream",
     "text": [
      "Some weights of the model checkpoint at deepset/bert-base-cased-squad2 were not used when initializing BertForQuestionAnswering: ['bert.pooler.dense.bias', 'bert.pooler.dense.weight']\n",
      "- This IS expected if you are initializing BertForQuestionAnswering from the checkpoint of a model trained on another task or with another architecture (e.g. initializing a BertForSequenceClassification model from a BertForPreTraining model).\n",
      "- This IS NOT expected if you are initializing BertForQuestionAnswering from the checkpoint of a model that you expect to be exactly identical (initializing a BertForSequenceClassification model from a BertForSequenceClassification model).\n"
     ]
    }
   ],
   "source": [
    "model_name = \"deepset/bert-base-cased-squad2\"\n",
    "#model_name = \"deepset/roberta-base-squad2\"\n",
    "tokenizer = BertTokenizerFast.from_pretrained(model_name)\n",
    "model = BertForQuestionAnswering.from_pretrained(model_name)"
   ]
  },
  {
   "cell_type": "code",
   "execution_count": 99,
   "metadata": {},
   "outputs": [],
   "source": [
    "inputs = tokenizer(question, context, return_tensors=\"pt\", truncation=True, max_length=512)\n"
   ]
  },
  {
   "cell_type": "code",
   "execution_count": 100,
   "metadata": {},
   "outputs": [],
   "source": [
    "with torch.no_grad():\n",
    "    outputs = model(**inputs)"
   ]
  },
  {
   "cell_type": "markdown",
   "metadata": {},
   "source": [
    "We tokenize the context, and what BERT does is to give a probability of each token, where it will be either the start of the answer or the end of the answer"
   ]
  },
  {
   "cell_type": "code",
   "execution_count": 101,
   "metadata": {},
   "outputs": [
    {
     "data": {
      "text/plain": [
       "QuestionAnsweringModelOutput(loss=None, start_logits=tensor([[-0.7849, -7.7939, -8.3531, -7.6489, -8.5965, -8.6282, -9.4338, -8.9586,\n",
       "         -8.4428, -8.2568, -8.0975, -8.8458, -8.2185, -4.5230, -8.3194, -6.7624,\n",
       "         -8.6803, -7.0846, -5.9340, -7.7338, -6.8487, -8.5294, -9.1060, -6.9105,\n",
       "         -7.6318, -8.2203, -8.7276, -8.3912, -8.0501, -6.9143, -8.6218, -7.8172,\n",
       "         -9.0100, -8.2569, -6.4151, -8.2700, -7.5583, -5.8637, -8.2565, -7.4781,\n",
       "         -8.7355, -8.7740, -8.0287, -7.1294, -7.5655, -8.6153, -9.4420, -8.9166,\n",
       "         -7.9060, -8.5978, -7.0571, -7.5721, -2.7808, -7.8713, -7.4432, -8.0318,\n",
       "         -8.0333, -6.7128, -7.8459, -8.0049, -1.5219, -5.9873, -9.0419, -4.5403,\n",
       "         -7.7411, -6.8027, -8.3700, -5.6448, -8.4717, -8.2887, -9.5469, -8.7747,\n",
       "         -7.0176, -1.2607, -5.1707, -5.9624, -5.9328, -7.4170, -8.5625, -7.2535,\n",
       "         -7.6185, -7.1874, -6.1013, -6.6234, -0.8019, -6.7759,  0.6271, -5.7152,\n",
       "         -4.9117, -7.4438, -8.8701, -8.0098, -7.9540, -8.8095, -8.6030, -6.3889,\n",
       "         -8.9950, -7.7215, -8.2896, -9.6269, -8.9622, -9.1937, -9.1471, -8.3280,\n",
       "         -8.8634, -9.2652, -8.5927, -9.1131, -5.8533, -9.0117, -8.4521, -8.9907,\n",
       "         -8.9930, -5.4434, -8.5152, -7.5236, -9.7684, -8.5552, -8.6441, -8.5507,\n",
       "         -8.5607, -8.4215, -9.2475, -9.1394, -8.8459]]), end_logits=tensor([[-0.4244, -8.2250, -7.7319, -9.0688, -8.4379, -8.1018, -7.3539, -7.3138,\n",
       "         -8.2300, -8.1418, -8.0236, -7.9638, -8.3688, -8.0451, -8.3860, -6.7326,\n",
       "         -8.0900, -8.2897, -7.3591, -7.7878, -8.1594, -7.7978, -7.6821, -8.3415,\n",
       "         -6.0455, -8.4125, -8.2815, -8.4863, -8.1719, -7.8166, -8.3001, -7.0786,\n",
       "         -5.6933, -6.3797, -8.0166, -8.4487, -8.6381, -5.8274, -7.8577, -7.3004,\n",
       "         -6.9641, -8.2183, -8.8311, -7.2063, -8.6049, -8.4959, -7.0409, -8.1191,\n",
       "         -5.6701, -6.6599, -8.4935, -7.9082, -7.9290, -8.5669, -8.1933, -6.6451,\n",
       "         -8.6423, -9.2334, -8.8280, -8.5724, -1.9201, -1.8805, -6.7066, -6.9164,\n",
       "         -8.1944, -6.6766, -5.3006, -7.7652, -8.1662, -7.4292, -5.7668, -5.5177,\n",
       "         -8.6331, -1.2717, -2.4209, -2.0532, -8.4698, -7.6315, -8.2147, -8.5984,\n",
       "         -8.7703, -8.7966, -5.8123, -8.1308, -4.0345, -7.3477,  0.9614, -4.3388,\n",
       "         -0.3898, -7.7301, -8.3445, -8.8085, -7.8806, -8.3613, -8.5492, -7.1698,\n",
       "         -8.2073, -8.0625, -6.7781, -7.2263, -8.2358, -8.0461, -8.1479, -8.5103,\n",
       "         -8.2424, -7.8378, -6.6413, -7.4673, -6.2379, -8.0299, -8.0491, -7.7157,\n",
       "         -7.9920, -8.1187, -8.3211, -6.8071, -6.3994, -8.4060, -8.0691, -8.5443,\n",
       "         -8.4635, -8.1955, -7.4127, -7.5315, -7.9638]]), hidden_states=None, attentions=None)"
      ]
     },
     "execution_count": 101,
     "metadata": {},
     "output_type": "execute_result"
    }
   ],
   "source": [
    "outputs"
   ]
  },
  {
   "cell_type": "code",
   "execution_count": 102,
   "metadata": {},
   "outputs": [],
   "source": [
    "start_scores, end_scores = softmax(outputs.start_logits)[0], softmax(outputs.end_logits)[0]"
   ]
  },
  {
   "cell_type": "code",
   "execution_count": 103,
   "metadata": {},
   "outputs": [
    {
     "data": {
      "application/vnd.plotly.v1+json": {
       "config": {
        "plotlyServerURL": "https://plot.ly"
       },
       "data": [
        {
         "alignmentgroup": "True",
         "hovertemplate": "Score Type=Start<br>Token Position=%{x}<br>Score=%{y}<extra></extra>",
         "legendgroup": "Start",
         "marker": {
          "color": "#636efa",
          "pattern": {
           "shape": ""
          }
         },
         "name": "Start",
         "offsetgroup": "Start",
         "orientation": "v",
         "showlegend": true,
         "textposition": "auto",
         "type": "bar",
         "x": [
          0,
          1,
          2,
          3,
          4,
          5,
          6,
          7,
          8,
          9,
          10,
          11,
          12,
          13,
          14,
          15,
          16,
          17,
          18,
          19,
          20,
          21,
          22,
          23,
          24,
          25,
          26,
          27,
          28,
          29,
          30,
          31,
          32,
          33,
          34,
          35,
          36,
          37,
          38,
          39,
          40,
          41,
          42,
          43,
          44,
          45,
          46,
          47,
          48,
          49,
          50,
          51,
          52,
          53,
          54,
          55,
          56,
          57,
          58,
          59,
          60,
          61,
          62,
          63,
          64,
          65,
          66,
          67,
          68,
          69,
          70,
          71,
          72,
          73,
          74,
          75,
          76,
          77,
          78,
          79,
          80,
          81,
          82,
          83,
          84,
          85,
          86,
          87,
          88,
          89,
          90,
          91,
          92,
          93,
          94,
          95,
          96,
          97,
          98,
          99,
          100,
          101,
          102,
          103,
          104,
          105,
          106,
          107,
          108,
          109,
          110,
          111,
          112,
          113,
          114,
          115,
          116,
          117,
          118,
          119,
          120,
          121,
          122,
          123,
          124
         ],
         "xaxis": "x",
         "y": [
          0.13245750963687897,
          0.00011970320338150486,
          0.00006843000301159918,
          0.00013837695587426424,
          0.00005364303069654852,
          0.00005197347854846157,
          0.00002322248474229127,
          0.00003734836354851723,
          0.00006256034976104274,
          0.00007534876931458712,
          0.00008836080087348819,
          0.000041805938963079825,
          0.00007828930392861366,
          0.003152418415993452,
          0.00007077438203850761,
          0.0003357881505507976,
          0.0000493314910272602,
          0.00024330412270501256,
          0.0007688657497055829,
          0.00012711292947642505,
          0.0003080310416407883,
          0.00005736913954024203,
          0.000032229479984380305,
          0.0002895710349548608,
          0.00014076051593292505,
          0.00007814951095497236,
          0.00004705174433183856,
          0.00006586933159269392,
          0.00009264478285331279,
          0.00028848214424215257,
          0.00005230512761045247,
          0.00011694590648403391,
          0.00003547759843058884,
          0.00007533800089731812,
          0.0004752355453092605,
          0.00007436043961206451,
          0.00015149924729485065,
          0.0008248036028817296,
          0.00007536609336966649,
          0.0001641442213440314,
          0.000046682074753334746,
          0.000044921205699210986,
          0.00009465465700486675,
          0.00023264002811629325,
          0.00015041777805890888,
          0.00005264804349280894,
          0.000023032889657770284,
          0.0000389491360692773,
          0.00010700715210987255,
          0.000053573501645587385,
          0.00025007055955938995,
          0.00014942267443984747,
          0.01799851469695568,
          0.00011078426177846268,
          0.00016998643695842475,
          0.00009436019900022075,
          0.00009421489085070789,
          0.0003528487868607044,
          0.00011363218072801828,
          0.00009692780440673232,
          0.06338774412870407,
          0.0007289649220183492,
          0.00003436318365857005,
          0.0030982468742877245,
          0.0001261844881810248,
          0.00032252806704491377,
          0.00006728241714881733,
          0.0010266645113006234,
          0.00006077555735828355,
          0.0000729793609934859,
          0.000020737519662361592,
          0.000044889948185300454,
          0.00026015241746790707,
          0.0823027715086937,
          0.0016493807779625058,
          0.0007472861907444894,
          0.0007697732071392238,
          0.0001744851761031896,
          0.00005550044807023369,
          0.00020549770852085203,
          0.00014264594938140363,
          0.00021952539100311697,
          0.0006503999466076493,
          0.0003858545096591115,
          0.13022570312023163,
          0.00033127941424027085,
          0.5435824990272522,
          0.0009569218382239342,
          0.0021371564362198114,
          0.00016987932031042874,
          0.00004080300641362555,
          0.00009645502723287791,
          0.00010198928066529334,
          0.00004335561243351549,
          0.0000532959311385639,
          0.00048784163664095104,
          0.00003601223943405785,
          0.00012868161138612777,
          0.00007291237125173211,
          0.000019143199097015895,
          0.000037213758332654834,
          0.000029524031560868025,
          0.00003093312989221886,
          0.00007016436575213447,
          0.0000410794818890281,
          0.000027485748432809487,
          0.000053851086704526097,
          0.00003200063656549901,
          0.0008334846934303641,
          0.00003541600744938478,
          0.00006198110349941999,
          0.00003616905087255873,
          0.00003608670522226021,
          0.0012557052541524172,
          0.000058185662055620924,
          0.0001568459119880572,
          0.000016618805602774955,
          0.0000559043328394182,
          0.00005115052408655174,
          0.000056156550272135064,
          0.00005560174031415954,
          0.00006390652561094612,
          0.000027977570425719023,
          0.000031169915018836036,
          0.00004180557880317792
         ],
         "yaxis": "y"
        },
        {
         "alignmentgroup": "True",
         "hovertemplate": "Score Type=End<br>Token Position=%{x}<br>Score=%{y}<extra></extra>",
         "legendgroup": "End",
         "marker": {
          "color": "#EF553B",
          "pattern": {
           "shape": ""
          }
         },
         "name": "End",
         "offsetgroup": "End",
         "orientation": "v",
         "showlegend": true,
         "textposition": "auto",
         "type": "bar",
         "x": [
          0,
          1,
          2,
          3,
          4,
          5,
          6,
          7,
          8,
          9,
          10,
          11,
          12,
          13,
          14,
          15,
          16,
          17,
          18,
          19,
          20,
          21,
          22,
          23,
          24,
          25,
          26,
          27,
          28,
          29,
          30,
          31,
          32,
          33,
          34,
          35,
          36,
          37,
          38,
          39,
          40,
          41,
          42,
          43,
          44,
          45,
          46,
          47,
          48,
          49,
          50,
          51,
          52,
          53,
          54,
          55,
          56,
          57,
          58,
          59,
          60,
          61,
          62,
          63,
          64,
          65,
          66,
          67,
          68,
          69,
          70,
          71,
          72,
          73,
          74,
          75,
          76,
          77,
          78,
          79,
          80,
          81,
          82,
          83,
          84,
          85,
          86,
          87,
          88,
          89,
          90,
          91,
          92,
          93,
          94,
          95,
          96,
          97,
          98,
          99,
          100,
          101,
          102,
          103,
          104,
          105,
          106,
          107,
          108,
          109,
          110,
          111,
          112,
          113,
          114,
          115,
          116,
          117,
          118,
          119,
          120,
          121,
          122,
          123,
          124
         ],
         "xaxis": "x",
         "y": [
          0.13488052785396576,
          0.00005523555591935292,
          0.00009043572208611295,
          0.000023754953872412443,
          0.00004464311496121809,
          0.0000624744498054497,
          0.00013198259694036096,
          0.00013738515553995967,
          0.000054955711675575,
          0.000060027374274795875,
          0.00006755350477760658,
          0.00007172137702582404,
          0.00004783307667821646,
          0.00006611739081563428,
          0.00004701871148427017,
          0.00024566068896092474,
          0.00006321696855593473,
          0.00005177145794732496,
          0.00013130078150425106,
          0.00008551673090551049,
          0.00005897957453271374,
          0.00008467041334370151,
          0.0000950535322772339,
          0.00004916126636089757,
          0.0004883473156951368,
          0.00004579166852636263,
          0.00005219811646384187,
          0.00004253149381838739,
          0.00005824747495353222,
          0.00008309563418151811,
          0.000051236129365861416,
          0.00017381046200171113,
          0.0006945275235921144,
          0.0003496160788927227,
          0.00006803322321502492,
          0.00004416093725012615,
          0.000036540870496537536,
          0.0006073933327570558,
          0.00007975081825861707,
          0.00013923519873060286,
          0.00019488509860821068,
          0.00005560287900152616,
          0.000030129447623039596,
          0.000152978886035271,
          0.00003777588062803261,
          0.00004212728890706785,
          0.00018048917991109192,
          0.00006140571349533275,
          0.0007108461577445269,
          0.00026417497429065406,
          0.00004222788629704155,
          0.00007581711543025449,
          0.00007425700459862128,
          0.000039237900637090206,
          0.00005701294867321849,
          0.00026812104624696076,
          0.00003638834459707141,
          0.000020148419935139827,
          0.000030222689019865356,
          0.00003902477692463435,
          0.030226336792111397,
          0.03144816681742668,
          0.0002521249116398394,
          0.00020441593369469047,
          0.00005695089930668473,
          0.00025980814825743437,
          0.0010286180768162012,
          0.0000874725155881606,
          0.00005858027725480497,
          0.0001224055013153702,
          0.0006453387904912233,
          0.0008278932073153555,
          0.00003672525781439617,
          0.05780778452754021,
          0.01831919327378273,
          0.026459960266947746,
          0.00004324182737036608,
          0.00009998758469009772,
          0.00005580751530942507,
          0.000038021862565074116,
          0.00003201789513695985,
          0.00003118711902061477,
          0.0006166024832054973,
          0.00006068933362257667,
          0.003648407757282257,
          0.0001328063226537779,
          0.5392588973045349,
          0.0026912258472293615,
          0.13963165879249573,
          0.00009059715375769883,
          0.0000490112324769143,
          0.00003081636896240525,
          0.00007794256089255214,
          0.000048195553972618654,
          0.000039937880501383916,
          0.00015866274770814925,
          0.00005622022581519559,
          0.00006497771391877905,
          0.00023474596673622727,
          0.0001499463542131707,
          0.000054640382586512715,
          0.00006605083763133734,
          0.00005965705349808559,
          0.000041524072003085166,
          0.000054279520554700866,
          0.00008135121606756002,
          0.00026915481430478394,
          0.00011783675290644169,
          0.00040288790478371084,
          0.00006713264883728698,
          0.00006585824303328991,
          0.00009191368735628203,
          0.00006972646224312484,
          0.00006142756319604814,
          0.000050171875045634806,
          0.00022802778403274715,
          0.00034281742409802973,
          0.00004609051757142879,
          0.00006455326365539804,
          0.00004013386569567956,
          0.00004351465395302512,
          0.000056888300605351105,
          0.00012444226013030857,
          0.00011050984903704375,
          0.00007172170444391668
         ],
         "yaxis": "y"
        }
       ],
       "layout": {
        "barmode": "group",
        "legend": {
         "title": {
          "text": "Score Type"
         },
         "tracegroupgap": 0
        },
        "template": {
         "data": {
          "bar": [
           {
            "error_x": {
             "color": "#2a3f5f"
            },
            "error_y": {
             "color": "#2a3f5f"
            },
            "marker": {
             "line": {
              "color": "#E5ECF6",
              "width": 0.5
             },
             "pattern": {
              "fillmode": "overlay",
              "size": 10,
              "solidity": 0.2
             }
            },
            "type": "bar"
           }
          ],
          "barpolar": [
           {
            "marker": {
             "line": {
              "color": "#E5ECF6",
              "width": 0.5
             },
             "pattern": {
              "fillmode": "overlay",
              "size": 10,
              "solidity": 0.2
             }
            },
            "type": "barpolar"
           }
          ],
          "carpet": [
           {
            "aaxis": {
             "endlinecolor": "#2a3f5f",
             "gridcolor": "white",
             "linecolor": "white",
             "minorgridcolor": "white",
             "startlinecolor": "#2a3f5f"
            },
            "baxis": {
             "endlinecolor": "#2a3f5f",
             "gridcolor": "white",
             "linecolor": "white",
             "minorgridcolor": "white",
             "startlinecolor": "#2a3f5f"
            },
            "type": "carpet"
           }
          ],
          "choropleth": [
           {
            "colorbar": {
             "outlinewidth": 0,
             "ticks": ""
            },
            "type": "choropleth"
           }
          ],
          "contour": [
           {
            "colorbar": {
             "outlinewidth": 0,
             "ticks": ""
            },
            "colorscale": [
             [
              0,
              "#0d0887"
             ],
             [
              0.1111111111111111,
              "#46039f"
             ],
             [
              0.2222222222222222,
              "#7201a8"
             ],
             [
              0.3333333333333333,
              "#9c179e"
             ],
             [
              0.4444444444444444,
              "#bd3786"
             ],
             [
              0.5555555555555556,
              "#d8576b"
             ],
             [
              0.6666666666666666,
              "#ed7953"
             ],
             [
              0.7777777777777778,
              "#fb9f3a"
             ],
             [
              0.8888888888888888,
              "#fdca26"
             ],
             [
              1,
              "#f0f921"
             ]
            ],
            "type": "contour"
           }
          ],
          "contourcarpet": [
           {
            "colorbar": {
             "outlinewidth": 0,
             "ticks": ""
            },
            "type": "contourcarpet"
           }
          ],
          "heatmap": [
           {
            "colorbar": {
             "outlinewidth": 0,
             "ticks": ""
            },
            "colorscale": [
             [
              0,
              "#0d0887"
             ],
             [
              0.1111111111111111,
              "#46039f"
             ],
             [
              0.2222222222222222,
              "#7201a8"
             ],
             [
              0.3333333333333333,
              "#9c179e"
             ],
             [
              0.4444444444444444,
              "#bd3786"
             ],
             [
              0.5555555555555556,
              "#d8576b"
             ],
             [
              0.6666666666666666,
              "#ed7953"
             ],
             [
              0.7777777777777778,
              "#fb9f3a"
             ],
             [
              0.8888888888888888,
              "#fdca26"
             ],
             [
              1,
              "#f0f921"
             ]
            ],
            "type": "heatmap"
           }
          ],
          "heatmapgl": [
           {
            "colorbar": {
             "outlinewidth": 0,
             "ticks": ""
            },
            "colorscale": [
             [
              0,
              "#0d0887"
             ],
             [
              0.1111111111111111,
              "#46039f"
             ],
             [
              0.2222222222222222,
              "#7201a8"
             ],
             [
              0.3333333333333333,
              "#9c179e"
             ],
             [
              0.4444444444444444,
              "#bd3786"
             ],
             [
              0.5555555555555556,
              "#d8576b"
             ],
             [
              0.6666666666666666,
              "#ed7953"
             ],
             [
              0.7777777777777778,
              "#fb9f3a"
             ],
             [
              0.8888888888888888,
              "#fdca26"
             ],
             [
              1,
              "#f0f921"
             ]
            ],
            "type": "heatmapgl"
           }
          ],
          "histogram": [
           {
            "marker": {
             "pattern": {
              "fillmode": "overlay",
              "size": 10,
              "solidity": 0.2
             }
            },
            "type": "histogram"
           }
          ],
          "histogram2d": [
           {
            "colorbar": {
             "outlinewidth": 0,
             "ticks": ""
            },
            "colorscale": [
             [
              0,
              "#0d0887"
             ],
             [
              0.1111111111111111,
              "#46039f"
             ],
             [
              0.2222222222222222,
              "#7201a8"
             ],
             [
              0.3333333333333333,
              "#9c179e"
             ],
             [
              0.4444444444444444,
              "#bd3786"
             ],
             [
              0.5555555555555556,
              "#d8576b"
             ],
             [
              0.6666666666666666,
              "#ed7953"
             ],
             [
              0.7777777777777778,
              "#fb9f3a"
             ],
             [
              0.8888888888888888,
              "#fdca26"
             ],
             [
              1,
              "#f0f921"
             ]
            ],
            "type": "histogram2d"
           }
          ],
          "histogram2dcontour": [
           {
            "colorbar": {
             "outlinewidth": 0,
             "ticks": ""
            },
            "colorscale": [
             [
              0,
              "#0d0887"
             ],
             [
              0.1111111111111111,
              "#46039f"
             ],
             [
              0.2222222222222222,
              "#7201a8"
             ],
             [
              0.3333333333333333,
              "#9c179e"
             ],
             [
              0.4444444444444444,
              "#bd3786"
             ],
             [
              0.5555555555555556,
              "#d8576b"
             ],
             [
              0.6666666666666666,
              "#ed7953"
             ],
             [
              0.7777777777777778,
              "#fb9f3a"
             ],
             [
              0.8888888888888888,
              "#fdca26"
             ],
             [
              1,
              "#f0f921"
             ]
            ],
            "type": "histogram2dcontour"
           }
          ],
          "mesh3d": [
           {
            "colorbar": {
             "outlinewidth": 0,
             "ticks": ""
            },
            "type": "mesh3d"
           }
          ],
          "parcoords": [
           {
            "line": {
             "colorbar": {
              "outlinewidth": 0,
              "ticks": ""
             }
            },
            "type": "parcoords"
           }
          ],
          "pie": [
           {
            "automargin": true,
            "type": "pie"
           }
          ],
          "scatter": [
           {
            "fillpattern": {
             "fillmode": "overlay",
             "size": 10,
             "solidity": 0.2
            },
            "type": "scatter"
           }
          ],
          "scatter3d": [
           {
            "line": {
             "colorbar": {
              "outlinewidth": 0,
              "ticks": ""
             }
            },
            "marker": {
             "colorbar": {
              "outlinewidth": 0,
              "ticks": ""
             }
            },
            "type": "scatter3d"
           }
          ],
          "scattercarpet": [
           {
            "marker": {
             "colorbar": {
              "outlinewidth": 0,
              "ticks": ""
             }
            },
            "type": "scattercarpet"
           }
          ],
          "scattergeo": [
           {
            "marker": {
             "colorbar": {
              "outlinewidth": 0,
              "ticks": ""
             }
            },
            "type": "scattergeo"
           }
          ],
          "scattergl": [
           {
            "marker": {
             "colorbar": {
              "outlinewidth": 0,
              "ticks": ""
             }
            },
            "type": "scattergl"
           }
          ],
          "scattermapbox": [
           {
            "marker": {
             "colorbar": {
              "outlinewidth": 0,
              "ticks": ""
             }
            },
            "type": "scattermapbox"
           }
          ],
          "scatterpolar": [
           {
            "marker": {
             "colorbar": {
              "outlinewidth": 0,
              "ticks": ""
             }
            },
            "type": "scatterpolar"
           }
          ],
          "scatterpolargl": [
           {
            "marker": {
             "colorbar": {
              "outlinewidth": 0,
              "ticks": ""
             }
            },
            "type": "scatterpolargl"
           }
          ],
          "scatterternary": [
           {
            "marker": {
             "colorbar": {
              "outlinewidth": 0,
              "ticks": ""
             }
            },
            "type": "scatterternary"
           }
          ],
          "surface": [
           {
            "colorbar": {
             "outlinewidth": 0,
             "ticks": ""
            },
            "colorscale": [
             [
              0,
              "#0d0887"
             ],
             [
              0.1111111111111111,
              "#46039f"
             ],
             [
              0.2222222222222222,
              "#7201a8"
             ],
             [
              0.3333333333333333,
              "#9c179e"
             ],
             [
              0.4444444444444444,
              "#bd3786"
             ],
             [
              0.5555555555555556,
              "#d8576b"
             ],
             [
              0.6666666666666666,
              "#ed7953"
             ],
             [
              0.7777777777777778,
              "#fb9f3a"
             ],
             [
              0.8888888888888888,
              "#fdca26"
             ],
             [
              1,
              "#f0f921"
             ]
            ],
            "type": "surface"
           }
          ],
          "table": [
           {
            "cells": {
             "fill": {
              "color": "#EBF0F8"
             },
             "line": {
              "color": "white"
             }
            },
            "header": {
             "fill": {
              "color": "#C8D4E3"
             },
             "line": {
              "color": "white"
             }
            },
            "type": "table"
           }
          ]
         },
         "layout": {
          "annotationdefaults": {
           "arrowcolor": "#2a3f5f",
           "arrowhead": 0,
           "arrowwidth": 1
          },
          "autotypenumbers": "strict",
          "coloraxis": {
           "colorbar": {
            "outlinewidth": 0,
            "ticks": ""
           }
          },
          "colorscale": {
           "diverging": [
            [
             0,
             "#8e0152"
            ],
            [
             0.1,
             "#c51b7d"
            ],
            [
             0.2,
             "#de77ae"
            ],
            [
             0.3,
             "#f1b6da"
            ],
            [
             0.4,
             "#fde0ef"
            ],
            [
             0.5,
             "#f7f7f7"
            ],
            [
             0.6,
             "#e6f5d0"
            ],
            [
             0.7,
             "#b8e186"
            ],
            [
             0.8,
             "#7fbc41"
            ],
            [
             0.9,
             "#4d9221"
            ],
            [
             1,
             "#276419"
            ]
           ],
           "sequential": [
            [
             0,
             "#0d0887"
            ],
            [
             0.1111111111111111,
             "#46039f"
            ],
            [
             0.2222222222222222,
             "#7201a8"
            ],
            [
             0.3333333333333333,
             "#9c179e"
            ],
            [
             0.4444444444444444,
             "#bd3786"
            ],
            [
             0.5555555555555556,
             "#d8576b"
            ],
            [
             0.6666666666666666,
             "#ed7953"
            ],
            [
             0.7777777777777778,
             "#fb9f3a"
            ],
            [
             0.8888888888888888,
             "#fdca26"
            ],
            [
             1,
             "#f0f921"
            ]
           ],
           "sequentialminus": [
            [
             0,
             "#0d0887"
            ],
            [
             0.1111111111111111,
             "#46039f"
            ],
            [
             0.2222222222222222,
             "#7201a8"
            ],
            [
             0.3333333333333333,
             "#9c179e"
            ],
            [
             0.4444444444444444,
             "#bd3786"
            ],
            [
             0.5555555555555556,
             "#d8576b"
            ],
            [
             0.6666666666666666,
             "#ed7953"
            ],
            [
             0.7777777777777778,
             "#fb9f3a"
            ],
            [
             0.8888888888888888,
             "#fdca26"
            ],
            [
             1,
             "#f0f921"
            ]
           ]
          },
          "colorway": [
           "#636efa",
           "#EF553B",
           "#00cc96",
           "#ab63fa",
           "#FFA15A",
           "#19d3f3",
           "#FF6692",
           "#B6E880",
           "#FF97FF",
           "#FECB52"
          ],
          "font": {
           "color": "#2a3f5f"
          },
          "geo": {
           "bgcolor": "white",
           "lakecolor": "white",
           "landcolor": "#E5ECF6",
           "showlakes": true,
           "showland": true,
           "subunitcolor": "white"
          },
          "hoverlabel": {
           "align": "left"
          },
          "hovermode": "closest",
          "mapbox": {
           "style": "light"
          },
          "paper_bgcolor": "white",
          "plot_bgcolor": "#E5ECF6",
          "polar": {
           "angularaxis": {
            "gridcolor": "white",
            "linecolor": "white",
            "ticks": ""
           },
           "bgcolor": "#E5ECF6",
           "radialaxis": {
            "gridcolor": "white",
            "linecolor": "white",
            "ticks": ""
           }
          },
          "scene": {
           "xaxis": {
            "backgroundcolor": "#E5ECF6",
            "gridcolor": "white",
            "gridwidth": 2,
            "linecolor": "white",
            "showbackground": true,
            "ticks": "",
            "zerolinecolor": "white"
           },
           "yaxis": {
            "backgroundcolor": "#E5ECF6",
            "gridcolor": "white",
            "gridwidth": 2,
            "linecolor": "white",
            "showbackground": true,
            "ticks": "",
            "zerolinecolor": "white"
           },
           "zaxis": {
            "backgroundcolor": "#E5ECF6",
            "gridcolor": "white",
            "gridwidth": 2,
            "linecolor": "white",
            "showbackground": true,
            "ticks": "",
            "zerolinecolor": "white"
           }
          },
          "shapedefaults": {
           "line": {
            "color": "#2a3f5f"
           }
          },
          "ternary": {
           "aaxis": {
            "gridcolor": "white",
            "linecolor": "white",
            "ticks": ""
           },
           "baxis": {
            "gridcolor": "white",
            "linecolor": "white",
            "ticks": ""
           },
           "bgcolor": "#E5ECF6",
           "caxis": {
            "gridcolor": "white",
            "linecolor": "white",
            "ticks": ""
           }
          },
          "title": {
           "x": 0.05
          },
          "xaxis": {
           "automargin": true,
           "gridcolor": "white",
           "linecolor": "white",
           "ticks": "",
           "title": {
            "standoff": 15
           },
           "zerolinecolor": "white",
           "zerolinewidth": 2
          },
          "yaxis": {
           "automargin": true,
           "gridcolor": "white",
           "linecolor": "white",
           "ticks": "",
           "title": {
            "standoff": 15
           },
           "zerolinecolor": "white",
           "zerolinewidth": 2
          }
         }
        },
        "title": {
         "text": "Start and End Scores for Tokens"
        },
        "xaxis": {
         "anchor": "y",
         "domain": [
          0,
          1
         ],
         "title": {
          "text": "Token Position"
         }
        },
        "yaxis": {
         "anchor": "x",
         "domain": [
          0,
          1
         ],
         "title": {
          "text": "Score"
         }
        }
       }
      }
     },
     "metadata": {},
     "output_type": "display_data"
    }
   ],
   "source": [
    "scores_df = pd.DataFrame({\n",
    "    \"Token Position\": list(range(len(start_scores))) * 2,\n",
    "    \"Score\": list(start_scores) + list(end_scores),\n",
    "    \"Score Type\": [\"Start\"] * len(start_scores) + [\"End\"] * len(end_scores),\n",
    "})\n",
    "px.bar(scores_df, x=\"Token Position\", y=\"Score\", color=\"Score Type\", barmode=\"group\", title=\"Start and End Scores for Tokens\")"
   ]
  },
  {
   "cell_type": "markdown",
   "metadata": {},
   "source": [
    "The answer will be at token 0 most likely to. "
   ]
  },
  {
   "cell_type": "code",
   "execution_count": 104,
   "metadata": {},
   "outputs": [],
   "source": [
    "start_index = np.argmax(start_scores) \n",
    "end_index = np.argmax(end_scores)"
   ]
  },
  {
   "cell_type": "code",
   "execution_count": 105,
   "metadata": {},
   "outputs": [],
   "source": [
    "answer_ids = inputs.input_ids[0][start_index : end_index + 1]\n",
    "answer_tokens = tokenizer.convert_ids_to_tokens(answer_ids)\n",
    "answer = tokenizer.convert_tokens_to_string(answer_tokens)"
   ]
  },
  {
   "cell_type": "code",
   "execution_count": 106,
   "metadata": {},
   "outputs": [
    {
     "data": {
      "text/plain": [
       "'eight'"
      ]
     },
     "execution_count": 106,
     "metadata": {},
     "output_type": "execute_result"
    }
   ],
   "source": [
    "answer"
   ]
  },
  {
   "cell_type": "code",
   "execution_count": 107,
   "metadata": {},
   "outputs": [],
   "source": [
    "def predict_answer(context, question):\n",
    "    inputs = tokenizer(question, context, return_tensors=\"pt\", truncation=True, max_length=512)\n",
    "    with torch.no_grad():\n",
    "        outputs = model(**inputs)\n",
    "    start_scores, end_scores = softmax(outputs.start_logits)[0], softmax(outputs.end_logits)[0]\n",
    "    start_idx = np.argmax(start_scores)\n",
    "    end_idx = np.argmax(end_scores)\n",
    "    confidence_score = (start_scores[start_idx] + end_scores[end_idx]) /2\n",
    "    answer_ids = inputs.input_ids[0][start_idx: end_idx + 1]\n",
    "    answer_tokens = tokenizer.convert_ids_to_tokens(answer_ids)\n",
    "    answer = tokenizer.convert_tokens_to_string(answer_tokens)\n",
    "    if answer != tokenizer.cls_token:\n",
    "        return answer, confidence_score\n",
    "    return None, confidence_score"
   ]
  },
  {
   "cell_type": "code",
   "execution_count": 120,
   "metadata": {},
   "outputs": [],
   "source": [
    "context = \"\"\"Coffee is a beverage prepared from roasted coffee beans. Darkly colored, bitter, and slightly acidic, coffee has a stimulating effect on humans, primarily due to its caffeine content. It has the highest sales in the world market for hot drinks.[2]\n",
    "\n",
    "The seeds of the Coffea plant's fruits are separated to produce unroasted green coffee beans. The beans are roasted and then ground into fine particles that are typically steeped in hot water before being filtered out, producing a cup of coffee. It is usually served hot, although chilled or iced coffee is common. Coffee can be prepared and presented in a variety of ways (e.g., espresso, French press, caffè latte, or already-brewed canned coffee). Sugar, sugar substitutes, milk, and cream are often added to mask the bitter taste or enhance the flavor.\n",
    "\n",
    "Though coffee is now a global commodity, it has a long history tied closely to food traditions around the Red Sea. The earliest credible evidence of coffee-drinking as the modern beverage appears in modern-day Yemen in southern Arabia in the middle of the 15th century in Sufi shrines, where coffee seeds were first roasted and brewed in a manner similar to how it is now prepared for drinking.[3] The coffee beans were procured by the Yemenis from the Ethiopian Highlands via coastal Somali intermediaries, and cultivated in Yemen. By the 16th century, the drink had reached the rest of the Middle East and North Africa, later spreading to Europe.\n",
    "\n",
    "The two most commonly grown coffee bean types are C. arabica and C. robusta.[4] Coffee plants are cultivated in over 70 countries, primarily in the equatorial regions of the Americas, Southeast Asia, the Indian subcontinent, and Africa. As of 2018, Brazil was the leading grower of coffee beans, producing 35% of the world's total. Green, unroasted coffee is traded as an agricultural commodity. Despite sales of coffee reaching billions of dollars worldwide, farmers producing coffee beans disproportionately live in poverty. Critics of the coffee industry have also pointed to its negative impact on the environment and the clearing of land for coffee-growing and water use\n",
    "Coffee has become a vital cash crop for many developing countries. Over one hundred million people in developing countries have become dependent on coffee as their primary source of income. It has become the primary export and backbone for African countries like Uganda, Burundi, Rwanda, and Ethiopia,[39] as well as many Central American countries.\"\"\"\n",
    "\n"
   ]
  },
  {
   "cell_type": "code",
   "execution_count": 109,
   "metadata": {},
   "outputs": [
    {
     "data": {
      "text/plain": [
       "('a beverage prepared from roasted coffee beans', 0.757049560546875)"
      ]
     },
     "execution_count": 109,
     "metadata": {},
     "output_type": "execute_result"
    }
   ],
   "source": [
    "predict_answer(context, \"What is coffee?\")"
   ]
  },
  {
   "cell_type": "code",
   "execution_count": 110,
   "metadata": {},
   "outputs": [
    {
     "data": {
      "text/plain": [
       "('C. arabica and C. robusta', 0.8553870916366577)"
      ]
     },
     "execution_count": 110,
     "metadata": {},
     "output_type": "execute_result"
    }
   ],
   "source": [
    "predict_answer(context, \"What are the common coffee beans?\")"
   ]
  },
  {
   "cell_type": "code",
   "execution_count": 111,
   "metadata": {},
   "outputs": [
    {
     "data": {
      "text/plain": [
       "(None, 0.9917401671409607)"
      ]
     },
     "execution_count": 111,
     "metadata": {},
     "output_type": "execute_result"
    }
   ],
   "source": [
    "predict_answer(context, \"How are you?\")"
   ]
  },
  {
   "cell_type": "code",
   "execution_count": 115,
   "metadata": {},
   "outputs": [],
   "source": [
    "def group(sentences, group_size, stride):\n",
    "    groups = []\n",
    "    num_sentences = len(sentences)\n",
    "    for i in range(0, num_sentences, group_size - stride):\n",
    "        chunk = sentences[i: i + group_size]\n",
    "        groups.append(chunk)\n",
    "    return groups"
   ]
  },
  {
   "cell_type": "code",
   "execution_count": 118,
   "metadata": {},
   "outputs": [
    {
     "data": {
      "text/plain": [
       "[['Sentence 1.', 'Sentence 2.', 'Sentence 3.'],\n",
       " ['Sentence 3.', 'Sentence 4.', 'Sentence 5.'],\n",
       " ['Sentence 5.', 'Sentence 6.', 'Sentence 7.'],\n",
       " ['Sentence 7.', 'Sentence 8.', 'Sentence 9.'],\n",
       " ['Sentence 9.', 'Sentence 10.']]"
      ]
     },
     "execution_count": 118,
     "metadata": {},
     "output_type": "execute_result"
    }
   ],
   "source": [
    "sentences = [\n",
    "    \"Sentence 1.\",\n",
    "    \"Sentence 2.\",\n",
    "    \"Sentence 3.\",\n",
    "    \"Sentence 4.\",\n",
    "    \"Sentence 5.\",\n",
    "    \"Sentence 6.\",\n",
    "    \"Sentence 7.\",\n",
    "    \"Sentence 8.\",\n",
    "    \"Sentence 9.\",\n",
    "    \"Sentence 10.\"\n",
    "]\n",
    "\n",
    "grouped_sentences = group(sentences, group_size=3, stride=1)\n",
    "grouped_sentences"
   ]
  },
  {
   "cell_type": "code",
   "execution_count": 121,
   "metadata": {},
   "outputs": [],
   "source": [
    "context = \"\"\"Coffee is a beverage prepared from roasted coffee beans. Darkly colored, bitter, and slightly acidic, coffee has a stimulating effect on humans, primarily due to its caffeine content. It has the highest sales in the world market for hot drinks.[2]\n",
    "\n",
    "The seeds of the Coffea plant's fruits are separated to produce unroasted green coffee beans. The beans are roasted and then ground into fine particles that are typically steeped in hot water before being filtered out, producing a cup of coffee. It is usually served hot, although chilled or iced coffee is common. Coffee can be prepared and presented in a variety of ways (e.g., espresso, French press, caffè latte, or already-brewed canned coffee). Sugar, sugar substitutes, milk, and cream are often added to mask the bitter taste or enhance the flavor.\n",
    "\n",
    "Though coffee is now a global commodity, it has a long history tied closely to food traditions around the Red Sea. The earliest credible evidence of coffee-drinking as the modern beverage appears in modern-day Yemen in southern Arabia in the middle of the 15th century in Sufi shrines, where coffee seeds were first roasted and brewed in a manner similar to how it is now prepared for drinking.[3] The coffee beans were procured by the Yemenis from the Ethiopian Highlands via coastal Somali intermediaries, and cultivated in Yemen. By the 16th century, the drink had reached the rest of the Middle East and North Africa, later spreading to Europe.\n",
    "\n",
    "The two most commonly grown coffee bean types are C. arabica and C. robusta.[4] Coffee plants are cultivated in over 70 countries, primarily in the equatorial regions of the Americas, Southeast Asia, the Indian subcontinent, and Africa. As of 2018, Brazil was the leading grower of coffee beans, producing 35% of the world's total. Green, unroasted coffee is traded as an agricultural commodity. Despite sales of coffee reaching billions of dollars worldwide, farmers producing coffee beans disproportionately live in poverty. Critics of the coffee industry have also pointed to its negative impact on the environment and the clearing of land for coffee-growing and water use\n",
    "Coffee has become a vital cash crop for many developing countries. Over one hundred million people in developing countries have become dependent on coffee as their primary source of income. It has become the primary export and backbone for African countries like Uganda, Burundi, Rwanda, and Ethiopia,[39] as well as many Central American countries.\"\"\"\n",
    "\n"
   ]
  },
  {
   "cell_type": "code",
   "execution_count": 124,
   "metadata": {},
   "outputs": [],
   "source": [
    "sentences = context.split(\"\\n\")\n",
    "grouped_sentences = group(sentences, group_size=3, stride=1)\n",
    "questions = questions = [\"What is coffee?\", \"What are the most common coffee beans?\", \"How can I make ice coffee?\", \"How many people are dependent on coffee for their income?\"]\n",
    "answers = {}"
   ]
  },
  {
   "cell_type": "code",
   "execution_count": 130,
   "metadata": {},
   "outputs": [],
   "source": [
    "def get_answers(grouped_sentences, context, questions):\n",
    "    answers = {}\n",
    "    for group in grouped_sentences:\n",
    "        context = \"\\n\".join(group)\n",
    "        for question in questions:\n",
    "            answer, score = predict_answer(context, question)\n",
    "            if answer:\n",
    "                if question not in answers:\n",
    "                    answers[question] = (answer, score)\n",
    "                else:\n",
    "                    if score > answers[question][1]:\n",
    "                        answers[question] = (answer, score)\n",
    "    return answers"
   ]
  },
  {
   "cell_type": "code",
   "execution_count": 131,
   "metadata": {},
   "outputs": [
    {
     "data": {
      "text/plain": [
       "{'What is coffee?': ('a beverage prepared from roasted coffee beans',\n",
       "  0.8990074396133423),\n",
       " 'What are the most common coffee beans?': ('C. arabica and C. robusta',\n",
       "  0.9542303681373596),\n",
       " 'How many people are dependent on coffee for their income?': ('Over one hundred million',\n",
       "  0.8877464532852173)}"
      ]
     },
     "execution_count": 131,
     "metadata": {},
     "output_type": "execute_result"
    }
   ],
   "source": [
    "get_answers(grouped_sentences, context, questions)"
   ]
  }
 ],
 "metadata": {
  "kernelspec": {
   "display_name": "Python 3.11.5 ('xalaxians_env')",
   "language": "python",
   "name": "python3"
  },
  "language_info": {
   "codemirror_mode": {
    "name": "ipython",
    "version": 3
   },
   "file_extension": ".py",
   "mimetype": "text/x-python",
   "name": "python",
   "nbconvert_exporter": "python",
   "pygments_lexer": "ipython3",
   "version": "3.11.5"
  },
  "orig_nbformat": 4,
  "vscode": {
   "interpreter": {
    "hash": "b94f8552009d7fcb73af2742ecfa37a7f8bbb6f8e5c677622085453cebaad380"
   }
  }
 },
 "nbformat": 4,
 "nbformat_minor": 2
}
