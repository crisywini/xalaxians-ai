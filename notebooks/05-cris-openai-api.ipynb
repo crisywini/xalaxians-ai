{
 "cells": [
  {
   "cell_type": "code",
   "execution_count": 13,
   "metadata": {},
   "outputs": [],
   "source": [
    "from langchain.document_loaders import DirectoryLoader, TextLoader\n",
    "from langchain.indexes import VectorstoreIndexCreator\n",
    "from langchain.chat_models import ChatOpenAI\n",
    "import os"
   ]
  },
  {
   "cell_type": "code",
   "execution_count": 4,
   "metadata": {},
   "outputs": [],
   "source": [
    "with open('../data/external/gpt-credentials.txt') as f:\n",
    "    key = f.read()"
   ]
  },
  {
   "cell_type": "code",
   "execution_count": 17,
   "metadata": {},
   "outputs": [],
   "source": [
    "os.environ['OPENAI_API_KEY'] = key"
   ]
  },
  {
   "cell_type": "code",
   "execution_count": 15,
   "metadata": {},
   "outputs": [],
   "source": [
    "#loader = DirectoryLoader('../data/raw/dataset/Xalaxian_Collective_Consciousness_Impacts.txt', glob='*.txt')\n",
    "loader = TextLoader('../data/raw/dataset/Xalaxian_Collective_Consciousness_Impacts.txt', encoding='utf8')\n",
    "\n",
    "index = VectorstoreIndexCreator().from_loaders([loader])"
   ]
  },
  {
   "cell_type": "code",
   "execution_count": 16,
   "metadata": {},
   "outputs": [
    {
     "name": "stdout",
     "output_type": "stream",
     "text": [
      "The Xalaxian collective consciousness refers to the interconnectedness and shared awareness of the entire Xalaxian species. It is a phenomenon in which the individual consciousness of Xalaxians is merged together to form a singular, unified awareness. Through their collective consciousness, Xalaxians are able to share knowledge, collaborate on projects, and make decisions as a unified whole. This collective consciousness is seen as a powerful force that allows the Xalaxians to think and act as one collective entity, pooling their energy and accessing the combined knowledge of the entire species.\n"
     ]
    }
   ],
   "source": [
    "print(index.query('What is the Xalaxians collective consciousness?', llm=ChatOpenAI()))"
   ]
  }
 ],
 "metadata": {
  "kernelspec": {
   "display_name": "Python 3.11.5 ('xalaxians_env')",
   "language": "python",
   "name": "python3"
  },
  "language_info": {
   "codemirror_mode": {
    "name": "ipython",
    "version": 3
   },
   "file_extension": ".py",
   "mimetype": "text/x-python",
   "name": "python",
   "nbconvert_exporter": "python",
   "pygments_lexer": "ipython3",
   "version": "3.11.5"
  },
  "orig_nbformat": 4,
  "vscode": {
   "interpreter": {
    "hash": "b94f8552009d7fcb73af2742ecfa37a7f8bbb6f8e5c677622085453cebaad380"
   }
  }
 },
 "nbformat": 4,
 "nbformat_minor": 2
}
