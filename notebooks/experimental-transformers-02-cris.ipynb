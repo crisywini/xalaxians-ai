{
 "cells": [
  {
   "cell_type": "markdown",
   "metadata": {},
   "source": [
    "## Semantic Search Engine"
   ]
  },
  {
   "cell_type": "code",
   "execution_count": 18,
   "metadata": {},
   "outputs": [],
   "source": [
    "from datasets import load_dataset\n",
    "from sentence_transformers import SentenceTransformer, util\n",
    "import torch\n",
    "from PyPDF2 import PdfReader\n",
    "import os\n",
    "import pandas as pd"
   ]
  },
  {
   "cell_type": "code",
   "execution_count": 14,
   "metadata": {},
   "outputs": [],
   "source": [
    "def extract_text_from_pdf(url: str) -> str:\n",
    "    # creating a pdf reader object\n",
    "    reader = PdfReader(url)\n",
    "    \n",
    "    # printing number of pages in pdf file\n",
    "    text = ''    \n",
    "    for page_num in range(len(reader.pages)):\n",
    "        # Extract text from the current page\n",
    "        page = reader.pages[page_num]\n",
    "        text += page.extract_text()\n",
    "    return text\n"
   ]
  },
  {
   "cell_type": "markdown",
   "metadata": {},
   "source": [
    "Create Dataset"
   ]
  },
  {
   "cell_type": "code",
   "execution_count": 28,
   "metadata": {},
   "outputs": [],
   "source": [
    "base_path = '../data/raw/dataset/'\n",
    "content = []\n",
    "names = []\n",
    "with os.scandir(base_path) as entries:\n",
    "    for entry in entries:\n",
    "        if entry.name.endswith(\".pdf\"):\n",
    "            names.append(entry.name)\n",
    "            text = extract_text_from_pdf(base_path+entry.name)\n",
    "            content.append(text)\n",
    "dataset = {'document':names, 'summary': content}"
   ]
  },
  {
   "cell_type": "code",
   "execution_count": 20,
   "metadata": {},
   "outputs": [
    {
     "data": {
      "text/html": [
       "<div>\n",
       "<style scoped>\n",
       "    .dataframe tbody tr th:only-of-type {\n",
       "        vertical-align: middle;\n",
       "    }\n",
       "\n",
       "    .dataframe tbody tr th {\n",
       "        vertical-align: top;\n",
       "    }\n",
       "\n",
       "    .dataframe thead th {\n",
       "        text-align: right;\n",
       "    }\n",
       "</style>\n",
       "<table border=\"1\" class=\"dataframe\">\n",
       "  <thead>\n",
       "    <tr style=\"text-align: right;\">\n",
       "      <th></th>\n",
       "      <th>document</th>\n",
       "      <th>summary</th>\n",
       "    </tr>\n",
       "  </thead>\n",
       "  <tbody>\n",
       "    <tr>\n",
       "      <th>0</th>\n",
       "      <td>Xalaxian_Advanced_Materials_Science.pdf</td>\n",
       "      <td>File Name: Xalaxian Advanced Materials Science...</td>\n",
       "    </tr>\n",
       "    <tr>\n",
       "      <th>1</th>\n",
       "      <td>Xalaxian_Astral_Projection_Techniques.pdf</td>\n",
       "      <td>File Name: Xalaxian Astral Projection Techniqu...</td>\n",
       "    </tr>\n",
       "    <tr>\n",
       "      <th>2</th>\n",
       "      <td>Xalaxian_Aurora-Equivalent_Energy_Expressions.pdf</td>\n",
       "      <td>File Name: Xalaxian_Aurora-Equivalent_Energy_E...</td>\n",
       "    </tr>\n",
       "    <tr>\n",
       "      <th>3</th>\n",
       "      <td>Xalaxian_Aurora-like_Phenomena.pdf</td>\n",
       "      <td>File Name: Xalaxian_Aurora-like_Phenomena.pdf\\...</td>\n",
       "    </tr>\n",
       "    <tr>\n",
       "      <th>4</th>\n",
       "      <td>Xalaxian_Binary_Star_Energy_Harvesting.pdf</td>\n",
       "      <td>File Name: Xalaxian Binary Star Energy Harvest...</td>\n",
       "    </tr>\n",
       "    <tr>\n",
       "      <th>...</th>\n",
       "      <td>...</td>\n",
       "      <td>...</td>\n",
       "    </tr>\n",
       "    <tr>\n",
       "      <th>85</th>\n",
       "      <td>Xalaxian_Tranquil_Energy_Expanse_Research.pdf</td>\n",
       "      <td>File Name: Xalaxian Tranquil Energy Expanse Re...</td>\n",
       "    </tr>\n",
       "    <tr>\n",
       "      <th>86</th>\n",
       "      <td>Xalaxian_Twilight_Adaptation_Mechanisms.pdf</td>\n",
       "      <td>File Name: Xalaxian_Twilight_Adaptation_Mechan...</td>\n",
       "    </tr>\n",
       "    <tr>\n",
       "      <th>87</th>\n",
       "      <td>Xalaxian_Twilight_Sky_Phenomena.pdf</td>\n",
       "      <td>File Name: Xalaxian_Twilight_Sky_Phenomena.pdf...</td>\n",
       "    </tr>\n",
       "    <tr>\n",
       "      <th>88</th>\n",
       "      <td>Xalaxian_Universal_Ethics.pdf</td>\n",
       "      <td>File Name: Xalaxian Universal Ethics Framework...</td>\n",
       "    </tr>\n",
       "    <tr>\n",
       "      <th>89</th>\n",
       "      <td>Xalaxian_Visual_Phenomena_Analysis.pdf</td>\n",
       "      <td>File Name: Xalaxian Visual Phenomena Analysis\\...</td>\n",
       "    </tr>\n",
       "  </tbody>\n",
       "</table>\n",
       "<p>90 rows × 2 columns</p>\n",
       "</div>"
      ],
      "text/plain": [
       "                                             document  \\\n",
       "0             Xalaxian_Advanced_Materials_Science.pdf   \n",
       "1           Xalaxian_Astral_Projection_Techniques.pdf   \n",
       "2   Xalaxian_Aurora-Equivalent_Energy_Expressions.pdf   \n",
       "3                  Xalaxian_Aurora-like_Phenomena.pdf   \n",
       "4          Xalaxian_Binary_Star_Energy_Harvesting.pdf   \n",
       "..                                                ...   \n",
       "85      Xalaxian_Tranquil_Energy_Expanse_Research.pdf   \n",
       "86        Xalaxian_Twilight_Adaptation_Mechanisms.pdf   \n",
       "87                Xalaxian_Twilight_Sky_Phenomena.pdf   \n",
       "88                      Xalaxian_Universal_Ethics.pdf   \n",
       "89             Xalaxian_Visual_Phenomena_Analysis.pdf   \n",
       "\n",
       "                                              summary  \n",
       "0   File Name: Xalaxian Advanced Materials Science...  \n",
       "1   File Name: Xalaxian Astral Projection Techniqu...  \n",
       "2   File Name: Xalaxian_Aurora-Equivalent_Energy_E...  \n",
       "3   File Name: Xalaxian_Aurora-like_Phenomena.pdf\\...  \n",
       "4   File Name: Xalaxian Binary Star Energy Harvest...  \n",
       "..                                                ...  \n",
       "85  File Name: Xalaxian Tranquil Energy Expanse Re...  \n",
       "86  File Name: Xalaxian_Twilight_Adaptation_Mechan...  \n",
       "87  File Name: Xalaxian_Twilight_Sky_Phenomena.pdf...  \n",
       "88  File Name: Xalaxian Universal Ethics Framework...  \n",
       "89  File Name: Xalaxian Visual Phenomena Analysis\\...  \n",
       "\n",
       "[90 rows x 2 columns]"
      ]
     },
     "execution_count": 20,
     "metadata": {},
     "output_type": "execute_result"
    }
   ],
   "source": [
    "df = pd.DataFrame(dataset)\n",
    "df"
   ]
  },
  {
   "cell_type": "code",
   "execution_count": 21,
   "metadata": {},
   "outputs": [],
   "source": [
    "model = SentenceTransformer('all-MiniLM-L6-v2')"
   ]
  },
  {
   "cell_type": "code",
   "execution_count": 22,
   "metadata": {},
   "outputs": [
    {
     "name": "stderr",
     "output_type": "stream",
     "text": [
      "Batches: 100%|██████████| 3/3 [02:07<00:00, 42.52s/it]\n"
     ]
    }
   ],
   "source": [
    "passage_embeddings = list(model.encode(df['summary'].to_list(), show_progress_bar=True))"
   ]
  },
  {
   "cell_type": "code",
   "execution_count": 23,
   "metadata": {},
   "outputs": [
    {
     "data": {
      "text/plain": [
       "(384,)"
      ]
     },
     "execution_count": 23,
     "metadata": {},
     "output_type": "execute_result"
    }
   ],
   "source": [
    "\n",
    "# Print the shape of the first passage embedding\n",
    "passage_embeddings[0].shape"
   ]
  },
  {
   "cell_type": "code",
   "execution_count": 24,
   "metadata": {},
   "outputs": [],
   "source": [
    "\n",
    "# Define a function to find relevant news articles based on a given query\n",
    "def find_relevant_news(query):\n",
    "    # Encode the query using the sentence transformer model\n",
    "    query_embedding = model.encode(query)\n",
    "    # Print the shape of the query embedding\n",
    "    query_embedding.shape\n",
    "\n",
    "    # Calculate the cosine similarity between the query embedding and the passage embeddings\n",
    "    similarities = util.cos_sim(query_embedding, passage_embeddings)\n",
    "\n",
    "    # Find the indices of the top 3 most similar passages\n",
    "    top_indicies = torch.topk(similarities.flatten(), 3).indices\n",
    "\n",
    "    # Get the top 3 relevant passages by slicing the summaries at 200 characters and adding an ellipsis\n",
    "    top_relevant_passages = [df.iloc[x.item()]['summary'][:200] + \"...\" for x in top_indicies]\n",
    "\n",
    "    # Return the top 3 relevant passages\n",
    "    return top_relevant_passages"
   ]
  },
  {
   "cell_type": "code",
   "execution_count": 26,
   "metadata": {},
   "outputs": [
    {
     "data": {
      "text/plain": [
       "['File Name: Xalaxian Societal Structure\\nDescription: This document details the unique societal structure of the Xalaxians. \\nIt outlines the fundamental elements of their collective decision-making proc...',\n",
       " 'File Name: Xalaxian_Collective_Consciousness_Impacts.pdf\\nDescription: This document provides an overview of the impact of Xalaxian \\ncollective consciousness on their society and culture.\\nData:\\n- The X...',\n",
       " 'File Name: Xalaxian Culture and Art\\nDescription: This document outlines the unique culture and art of the Xalaxians. \\nThis includes their philosophical and spiritual beliefs, as well as their artistic...']"
      ]
     },
     "execution_count": 26,
     "metadata": {},
     "output_type": "execute_result"
    }
   ],
   "source": [
    "find_relevant_news(\"Society and Culture\")"
   ]
  },
  {
   "cell_type": "code",
   "execution_count": 27,
   "metadata": {},
   "outputs": [
    {
     "data": {
      "text/plain": [
       "[\"File Name: Xalaxian Space-Time Manipulation Technology\\nDescription: This document outlines the intricate design and functionality of the \\nXalaxians' space-time manipulation technology. Predominantly u...\",\n",
       " 'File Name: Xalaxian Spatial Manipulation\\nDescription: This document examines the advanced spatial manipulation \\ncapabilities of the Xalaxians. Enabled by their intricate knowledge of space-time, \\nthe ...',\n",
       " 'File Name: Xalaxian Astral Projection Techniques\\nDescription: This document outlines the advanced astral projection techniques \\nutilized by the Xalaxians to traverse vast cosmic distances almost insta...']"
      ]
     },
     "execution_count": 27,
     "metadata": {},
     "output_type": "execute_result"
    }
   ],
   "source": [
    "find_relevant_news(\"Space time manipulation\")"
   ]
  }
 ],
 "metadata": {
  "kernelspec": {
   "display_name": "Python 3.11.5 ('xalaxians_env')",
   "language": "python",
   "name": "python3"
  },
  "language_info": {
   "codemirror_mode": {
    "name": "ipython",
    "version": 3
   },
   "file_extension": ".py",
   "mimetype": "text/x-python",
   "name": "python",
   "nbconvert_exporter": "python",
   "pygments_lexer": "ipython3",
   "version": "3.11.5"
  },
  "orig_nbformat": 4,
  "vscode": {
   "interpreter": {
    "hash": "b94f8552009d7fcb73af2742ecfa37a7f8bbb6f8e5c677622085453cebaad380"
   }
  }
 },
 "nbformat": 4,
 "nbformat_minor": 2
}
