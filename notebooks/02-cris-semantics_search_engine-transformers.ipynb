{
 "cells": [
  {
   "cell_type": "markdown",
   "metadata": {},
   "source": [
    "## Semantic Search Engine"
   ]
  },
  {
   "cell_type": "code",
   "execution_count": 2,
   "metadata": {},
   "outputs": [
    {
     "name": "stderr",
     "output_type": "stream",
     "text": [
      "c:\\ProgramData\\Miniconda3\\envs\\xalaxians_env\\Lib\\site-packages\\tqdm\\auto.py:21: TqdmWarning: IProgress not found. Please update jupyter and ipywidgets. See https://ipywidgets.readthedocs.io/en/stable/user_install.html\n",
      "  from .autonotebook import tqdm as notebook_tqdm\n"
     ]
    }
   ],
   "source": [
    "from datasets import load_dataset\n",
    "from sentence_transformers import SentenceTransformer, util\n",
    "import torch\n",
    "from PyPDF2 import PdfReader\n",
    "import os\n",
    "import pandas as pd"
   ]
  },
  {
   "cell_type": "code",
   "execution_count": 3,
   "metadata": {},
   "outputs": [],
   "source": [
    "def extract_text_from_pdf(url: str) -> str:\n",
    "    # creating a pdf reader object\n",
    "    reader = PdfReader(url)\n",
    "    \n",
    "    # printing number of pages in pdf file\n",
    "    text = ''    \n",
    "    for page_num in range(len(reader.pages)):\n",
    "        # Extract text from the current page\n",
    "        page = reader.pages[page_num]\n",
    "        text += page.extract_text()\n",
    "    return text\n"
   ]
  },
  {
   "cell_type": "markdown",
   "metadata": {},
   "source": [
    "Create Dataset"
   ]
  },
  {
   "cell_type": "code",
   "execution_count": 7,
   "metadata": {},
   "outputs": [],
   "source": [
    "base_path = '../data/raw/dataset/'\n",
    "content = []\n",
    "names = []\n",
    "with os.scandir(base_path) as entries:\n",
    "    for entry in entries:\n",
    "        if entry.name.endswith(\".pdf\"):\n",
    "            names.append(entry.name)\n",
    "            text = extract_text_from_pdf(base_path+entry.name)\n",
    "            content.append(text)\n",
    "        elif entry.name.endswith(\".txt\"):\n",
    "            names.append(entry.name)\n",
    "            id = lambda x: x\n",
    "            file = open(base_path+entry.name,\"r+\", encoding=\"utf8\")\n",
    "            lines = file.readlines()\n",
    "            text = ' '.join(lines)\n",
    "            content.append(text)\n",
    "            file.close()\n",
    "            \n",
    "dataset = {'document':names, 'summary': content}"
   ]
  },
  {
   "cell_type": "code",
   "execution_count": 8,
   "metadata": {},
   "outputs": [
    {
     "data": {
      "text/html": [
       "<div>\n",
       "<style scoped>\n",
       "    .dataframe tbody tr th:only-of-type {\n",
       "        vertical-align: middle;\n",
       "    }\n",
       "\n",
       "    .dataframe tbody tr th {\n",
       "        vertical-align: top;\n",
       "    }\n",
       "\n",
       "    .dataframe thead th {\n",
       "        text-align: right;\n",
       "    }\n",
       "</style>\n",
       "<table border=\"1\" class=\"dataframe\">\n",
       "  <thead>\n",
       "    <tr style=\"text-align: right;\">\n",
       "      <th></th>\n",
       "      <th>document</th>\n",
       "      <th>summary</th>\n",
       "    </tr>\n",
       "  </thead>\n",
       "  <tbody>\n",
       "    <tr>\n",
       "      <th>0</th>\n",
       "      <td>Xalaxian_Advanced_Materials_Science.pdf</td>\n",
       "      <td>File Name: Xalaxian Advanced Materials Science...</td>\n",
       "    </tr>\n",
       "    <tr>\n",
       "      <th>1</th>\n",
       "      <td>Xalaxian_Astral_Projection_Techniques.pdf</td>\n",
       "      <td>File Name: Xalaxian Astral Projection Techniqu...</td>\n",
       "    </tr>\n",
       "    <tr>\n",
       "      <th>2</th>\n",
       "      <td>Xalaxian_Aurora-Equivalent_Energy_Expressions.pdf</td>\n",
       "      <td>File Name: Xalaxian_Aurora-Equivalent_Energy_E...</td>\n",
       "    </tr>\n",
       "    <tr>\n",
       "      <th>3</th>\n",
       "      <td>Xalaxian_Aurora-like_Phenomena.pdf</td>\n",
       "      <td>File Name: Xalaxian_Aurora-like_Phenomena.pdf\\...</td>\n",
       "    </tr>\n",
       "    <tr>\n",
       "      <th>4</th>\n",
       "      <td>Xalaxian_Binary_Star_Energy_Harvesting.pdf</td>\n",
       "      <td>File Name: Xalaxian Binary Star Energy Harvest...</td>\n",
       "    </tr>\n",
       "    <tr>\n",
       "      <th>...</th>\n",
       "      <td>...</td>\n",
       "      <td>...</td>\n",
       "    </tr>\n",
       "    <tr>\n",
       "      <th>99</th>\n",
       "      <td>Xalaxian_Tranquil_Energy_Expanse_Research.pdf</td>\n",
       "      <td>File Name: Xalaxian Tranquil Energy Expanse Re...</td>\n",
       "    </tr>\n",
       "    <tr>\n",
       "      <th>100</th>\n",
       "      <td>Xalaxian_Twilight_Adaptation_Mechanisms.pdf</td>\n",
       "      <td>File Name: Xalaxian_Twilight_Adaptation_Mechan...</td>\n",
       "    </tr>\n",
       "    <tr>\n",
       "      <th>101</th>\n",
       "      <td>Xalaxian_Twilight_Sky_Phenomena.pdf</td>\n",
       "      <td>File Name: Xalaxian_Twilight_Sky_Phenomena.pdf...</td>\n",
       "    </tr>\n",
       "    <tr>\n",
       "      <th>102</th>\n",
       "      <td>Xalaxian_Universal_Ethics.pdf</td>\n",
       "      <td>File Name: Xalaxian Universal Ethics Framework...</td>\n",
       "    </tr>\n",
       "    <tr>\n",
       "      <th>103</th>\n",
       "      <td>Xalaxian_Visual_Phenomena_Analysis.pdf</td>\n",
       "      <td>File Name: Xalaxian Visual Phenomena Analysis\\...</td>\n",
       "    </tr>\n",
       "  </tbody>\n",
       "</table>\n",
       "<p>104 rows × 2 columns</p>\n",
       "</div>"
      ],
      "text/plain": [
       "                                              document  \\\n",
       "0              Xalaxian_Advanced_Materials_Science.pdf   \n",
       "1            Xalaxian_Astral_Projection_Techniques.pdf   \n",
       "2    Xalaxian_Aurora-Equivalent_Energy_Expressions.pdf   \n",
       "3                   Xalaxian_Aurora-like_Phenomena.pdf   \n",
       "4           Xalaxian_Binary_Star_Energy_Harvesting.pdf   \n",
       "..                                                 ...   \n",
       "99       Xalaxian_Tranquil_Energy_Expanse_Research.pdf   \n",
       "100        Xalaxian_Twilight_Adaptation_Mechanisms.pdf   \n",
       "101                Xalaxian_Twilight_Sky_Phenomena.pdf   \n",
       "102                      Xalaxian_Universal_Ethics.pdf   \n",
       "103             Xalaxian_Visual_Phenomena_Analysis.pdf   \n",
       "\n",
       "                                               summary  \n",
       "0    File Name: Xalaxian Advanced Materials Science...  \n",
       "1    File Name: Xalaxian Astral Projection Techniqu...  \n",
       "2    File Name: Xalaxian_Aurora-Equivalent_Energy_E...  \n",
       "3    File Name: Xalaxian_Aurora-like_Phenomena.pdf\\...  \n",
       "4    File Name: Xalaxian Binary Star Energy Harvest...  \n",
       "..                                                 ...  \n",
       "99   File Name: Xalaxian Tranquil Energy Expanse Re...  \n",
       "100  File Name: Xalaxian_Twilight_Adaptation_Mechan...  \n",
       "101  File Name: Xalaxian_Twilight_Sky_Phenomena.pdf...  \n",
       "102  File Name: Xalaxian Universal Ethics Framework...  \n",
       "103  File Name: Xalaxian Visual Phenomena Analysis\\...  \n",
       "\n",
       "[104 rows x 2 columns]"
      ]
     },
     "execution_count": 8,
     "metadata": {},
     "output_type": "execute_result"
    }
   ],
   "source": [
    "df = pd.DataFrame(dataset)\n",
    "df"
   ]
  },
  {
   "cell_type": "code",
   "execution_count": 9,
   "metadata": {},
   "outputs": [],
   "source": [
    "model = SentenceTransformer('all-MiniLM-L6-v2')"
   ]
  },
  {
   "cell_type": "code",
   "execution_count": 10,
   "metadata": {},
   "outputs": [
    {
     "name": "stderr",
     "output_type": "stream",
     "text": [
      "Batches: 100%|██████████| 4/4 [02:48<00:00, 42.17s/it]\n"
     ]
    }
   ],
   "source": [
    "passage_embeddings = list(model.encode(df['summary'].to_list(), show_progress_bar=True))"
   ]
  },
  {
   "cell_type": "code",
   "execution_count": 11,
   "metadata": {},
   "outputs": [
    {
     "data": {
      "text/plain": [
       "(384,)"
      ]
     },
     "execution_count": 11,
     "metadata": {},
     "output_type": "execute_result"
    }
   ],
   "source": [
    "\n",
    "# Print the shape of the first passage embedding\n",
    "passage_embeddings[0].shape"
   ]
  },
  {
   "cell_type": "code",
   "execution_count": 13,
   "metadata": {},
   "outputs": [],
   "source": [
    "\n",
    "# Define a function to find relevant news articles based on a given query\n",
    "def find_relevant_info(query):\n",
    "    # Encode the query using the sentence transformer model\n",
    "    query_embedding = model.encode(query)\n",
    "    # Print the shape of the query embedding\n",
    "    query_embedding.shape\n",
    "\n",
    "    # Calculate the cosine similarity between the query embedding and the passage embeddings\n",
    "    similarities = util.cos_sim(query_embedding, passage_embeddings)\n",
    "\n",
    "    # Find the indices of the top 3 most similar passages\n",
    "    top_indicies = torch.topk(similarities.flatten(), 3).indices\n",
    "\n",
    "    # Get the top 3 relevant passages by slicing the summaries at 200 characters and adding an ellipsis\n",
    "    top_relevant_passages = [df.iloc[x.item()]['summary'][:200] + \"...\" for x in top_indicies]\n",
    "\n",
    "    # Return the top 3 relevant passages\n",
    "    return top_relevant_passages"
   ]
  },
  {
   "cell_type": "code",
   "execution_count": 14,
   "metadata": {},
   "outputs": [
    {
     "name": "stderr",
     "output_type": "stream",
     "text": [
      "c:\\ProgramData\\Miniconda3\\envs\\xalaxians_env\\Lib\\site-packages\\sentence_transformers\\util.py:39: UserWarning: Creating a tensor from a list of numpy.ndarrays is extremely slow. Please consider converting the list to a single numpy.ndarray with numpy.array() before converting to a tensor. (Triggered internally at C:\\b\\abs_abjetg6_iu\\croot\\pytorch_1686932924616\\work\\torch\\csrc\\utils\\tensor_new.cpp:248.)\n",
      "  b = torch.tensor(b)\n"
     ]
    },
    {
     "data": {
      "text/plain": [
       "['File Name: Xalaxian Societal Structure\\nDescription: This document details the unique societal structure of the Xalaxians. \\nIt outlines the fundamental elements of their collective decision-making proc...',\n",
       " 'Insights into Xalaxian society would be crucial for navigating our relationship with them and understanding their decision-making process. \\n \\n Xalaxians operate in a communal-style society and there i...',\n",
       " 'File Name: Xalaxian_Collective_Consciousness_Impacts.pdf\\nDescription: This document provides an overview of the impact of Xalaxian \\ncollective consciousness on their society and culture.\\nData:\\n- The X...']"
      ]
     },
     "execution_count": 14,
     "metadata": {},
     "output_type": "execute_result"
    }
   ],
   "source": [
    "find_relevant_info(\"Society and Culture\")"
   ]
  },
  {
   "cell_type": "code",
   "execution_count": 15,
   "metadata": {},
   "outputs": [
    {
     "data": {
      "text/plain": [
       "[\"File Name: Xalaxian Space-Time Manipulation Technology\\nDescription: This document outlines the intricate design and functionality of the \\nXalaxians' space-time manipulation technology. Predominantly u...\",\n",
       " 'File Name: Xalaxian Spatial Manipulation\\nDescription: This document examines the advanced spatial manipulation \\ncapabilities of the Xalaxians. Enabled by their intricate knowledge of space-time, \\nthe ...',\n",
       " 'File Name: Xalaxian Astral Projection Techniques\\nDescription: This document outlines the advanced astral projection techniques \\nutilized by the Xalaxians to traverse vast cosmic distances almost insta...']"
      ]
     },
     "execution_count": 15,
     "metadata": {},
     "output_type": "execute_result"
    }
   ],
   "source": [
    "find_relevant_info(\"Space time manipulation\")"
   ]
  },
  {
   "cell_type": "code",
   "execution_count": 16,
   "metadata": {},
   "outputs": [
    {
     "data": {
      "text/plain": [
       "['As the Xalaxians are an advanced civilization, understanding their technology might lead to quantum leaps in human tech innovation.\\n \\n The Xalaxians have harnessed the power of energy to create advanc...',\n",
       " 'File Name: Xalaxian_Planetary_Energy_Conservation.pdf\\nDescription: This document outlines the principles and practices of Xalaxian \\nenergy conservation and sustainability. Xalaxian society is committe...',\n",
       " 'File Name: Xalaxian Strategies for Shared Knowledge\\nDescription: This document examines the strategies employed by the Xalaxians in \\ntheir efforts to share their knowledge and technology with less adv...']"
      ]
     },
     "execution_count": 16,
     "metadata": {},
     "output_type": "execute_result"
    }
   ],
   "source": [
    "find_relevant_info(\"Great Technology\")"
   ]
  }
 ],
 "metadata": {
  "kernelspec": {
   "display_name": "Python 3.11.5 ('xalaxians_env')",
   "language": "python",
   "name": "python3"
  },
  "language_info": {
   "codemirror_mode": {
    "name": "ipython",
    "version": 3
   },
   "file_extension": ".py",
   "mimetype": "text/x-python",
   "name": "python",
   "nbconvert_exporter": "python",
   "pygments_lexer": "ipython3",
   "version": "3.11.5"
  },
  "orig_nbformat": 4,
  "vscode": {
   "interpreter": {
    "hash": "b94f8552009d7fcb73af2742ecfa37a7f8bbb6f8e5c677622085453cebaad380"
   }
  }
 },
 "nbformat": 4,
 "nbformat_minor": 2
}
