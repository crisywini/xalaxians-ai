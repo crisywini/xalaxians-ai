{
 "cells": [
  {
   "cell_type": "markdown",
   "metadata": {},
   "source": [
    "Dependencies"
   ]
  },
  {
   "cell_type": "code",
   "execution_count": 13,
   "metadata": {},
   "outputs": [],
   "source": [
    "import torch \n",
    "from transformers import (\n",
    "    BertForQuestionAnswering,\n",
    "    BertTokenizerFast\n",
    ")\n",
    "\n",
    "from scipy.special import softmax\n",
    "import plotly.express as px\n",
    "import pandas as pd\n",
    "import numpy as np \n",
    "from PyPDF2 import PdfReader\n",
    "import os"
   ]
  },
  {
   "cell_type": "code",
   "execution_count": 3,
   "metadata": {},
   "outputs": [
    {
     "name": "stderr",
     "output_type": "stream",
     "text": [
      "Some weights of the model checkpoint at deepset/bert-base-cased-squad2 were not used when initializing BertForQuestionAnswering: ['bert.pooler.dense.weight', 'bert.pooler.dense.bias']\n",
      "- This IS expected if you are initializing BertForQuestionAnswering from the checkpoint of a model trained on another task or with another architecture (e.g. initializing a BertForSequenceClassification model from a BertForPreTraining model).\n",
      "- This IS NOT expected if you are initializing BertForQuestionAnswering from the checkpoint of a model that you expect to be exactly identical (initializing a BertForSequenceClassification model from a BertForSequenceClassification model).\n"
     ]
    }
   ],
   "source": [
    "model_name = \"deepset/bert-base-cased-squad2\"\n",
    "tokenizer = BertTokenizerFast.from_pretrained(model_name)\n",
    "model = BertForQuestionAnswering.from_pretrained(model_name)"
   ]
  },
  {
   "cell_type": "code",
   "execution_count": 6,
   "metadata": {},
   "outputs": [],
   "source": [
    "def extract_text_from_pdf(url: str) -> str:\n",
    "    # creating a pdf reader object\n",
    "    reader = PdfReader(url)\n",
    "    \n",
    "    # printing number of pages in pdf file\n",
    "    text = ''    \n",
    "    for page_num in range(len(reader.pages)):\n",
    "        # Extract text from the current page\n",
    "        page = reader.pages[page_num]\n",
    "        text += page.extract_text()\n",
    "    return text\n"
   ]
  },
  {
   "cell_type": "code",
   "execution_count": 4,
   "metadata": {},
   "outputs": [],
   "source": [
    "def predict_answer(context, question):\n",
    "    inputs = tokenizer(question, context, return_tensors=\"pt\", truncation=True, max_length=512)\n",
    "    with torch.no_grad():\n",
    "        outputs = model(**inputs)\n",
    "    start_scores, end_scores = softmax(outputs.start_logits)[0], softmax(outputs.end_logits)[0]\n",
    "    start_idx = np.argmax(start_scores)\n",
    "    end_idx = np.argmax(end_scores)\n",
    "    confidence_score = (start_scores[start_idx] + end_scores[end_idx]) /2\n",
    "    answer_ids = inputs.input_ids[0][start_idx: end_idx + 1]\n",
    "    answer_tokens = tokenizer.convert_ids_to_tokens(answer_ids)\n",
    "    answer = tokenizer.convert_tokens_to_string(answer_tokens)\n",
    "    if answer != tokenizer.cls_token:\n",
    "        return answer, confidence_score\n",
    "    return None, confidence_score"
   ]
  },
  {
   "cell_type": "code",
   "execution_count": 7,
   "metadata": {},
   "outputs": [],
   "source": [
    "context = extract_text_from_pdf('../data/raw/dataset/Xalaxian_Astral_Projection_Techniques.pdf')"
   ]
  },
  {
   "cell_type": "code",
   "execution_count": 9,
   "metadata": {},
   "outputs": [
    {
     "data": {
      "text/plain": [
       "('by manipulating space - time', 0.677298903465271)"
      ]
     },
     "execution_count": 9,
     "metadata": {},
     "output_type": "execute_result"
    }
   ],
   "source": [
    "predict_answer(context, \"How can be achieved the astral projection?\")"
   ]
  },
  {
   "cell_type": "code",
   "execution_count": 12,
   "metadata": {},
   "outputs": [
    {
     "data": {
      "text/plain": [
       "('could be used to explore and interact with alternate universes',\n",
       " 0.22129474580287933)"
      ]
     },
     "execution_count": 12,
     "metadata": {},
     "output_type": "execute_result"
    }
   ],
   "source": [
    "predict_answer(context, \"Does the astral projection techniques could be use to explore alternate universes?\")"
   ]
  },
  {
   "cell_type": "code",
   "execution_count": 15,
   "metadata": {},
   "outputs": [],
   "source": [
    "def group(sentences, group_size, stride):\n",
    "    groups = []\n",
    "    num_sentences = len(sentences)\n",
    "    for i in range(0, num_sentences, group_size - stride):\n",
    "        chunk = sentences[i: i + group_size]\n",
    "        groups.append(chunk)\n",
    "    return groups"
   ]
  },
  {
   "cell_type": "code",
   "execution_count": 14,
   "metadata": {},
   "outputs": [
    {
     "data": {
      "text/html": [
       "<div>\n",
       "<style scoped>\n",
       "    .dataframe tbody tr th:only-of-type {\n",
       "        vertical-align: middle;\n",
       "    }\n",
       "\n",
       "    .dataframe tbody tr th {\n",
       "        vertical-align: top;\n",
       "    }\n",
       "\n",
       "    .dataframe thead th {\n",
       "        text-align: right;\n",
       "    }\n",
       "</style>\n",
       "<table border=\"1\" class=\"dataframe\">\n",
       "  <thead>\n",
       "    <tr style=\"text-align: right;\">\n",
       "      <th></th>\n",
       "      <th>document</th>\n",
       "    </tr>\n",
       "  </thead>\n",
       "  <tbody>\n",
       "    <tr>\n",
       "      <th>0</th>\n",
       "      <td>File Name: Xalaxian Advanced Materials Science...</td>\n",
       "    </tr>\n",
       "    <tr>\n",
       "      <th>1</th>\n",
       "      <td>File Name: Xalaxian Astral Projection Techniqu...</td>\n",
       "    </tr>\n",
       "    <tr>\n",
       "      <th>2</th>\n",
       "      <td>File Name: Xalaxian_Aurora-Equivalent_Energy_E...</td>\n",
       "    </tr>\n",
       "    <tr>\n",
       "      <th>3</th>\n",
       "      <td>File Name: Xalaxian_Aurora-like_Phenomena.pdf\\...</td>\n",
       "    </tr>\n",
       "    <tr>\n",
       "      <th>4</th>\n",
       "      <td>File Name: Xalaxian Binary Star Energy Harvest...</td>\n",
       "    </tr>\n",
       "    <tr>\n",
       "      <th>...</th>\n",
       "      <td>...</td>\n",
       "    </tr>\n",
       "    <tr>\n",
       "      <th>99</th>\n",
       "      <td>File Name: Xalaxian Tranquil Energy Expanse Re...</td>\n",
       "    </tr>\n",
       "    <tr>\n",
       "      <th>100</th>\n",
       "      <td>File Name: Xalaxian_Twilight_Adaptation_Mechan...</td>\n",
       "    </tr>\n",
       "    <tr>\n",
       "      <th>101</th>\n",
       "      <td>File Name: Xalaxian_Twilight_Sky_Phenomena.pdf...</td>\n",
       "    </tr>\n",
       "    <tr>\n",
       "      <th>102</th>\n",
       "      <td>File Name: Xalaxian Universal Ethics Framework...</td>\n",
       "    </tr>\n",
       "    <tr>\n",
       "      <th>103</th>\n",
       "      <td>File Name: Xalaxian Visual Phenomena Analysis\\...</td>\n",
       "    </tr>\n",
       "  </tbody>\n",
       "</table>\n",
       "<p>104 rows × 1 columns</p>\n",
       "</div>"
      ],
      "text/plain": [
       "                                              document\n",
       "0    File Name: Xalaxian Advanced Materials Science...\n",
       "1    File Name: Xalaxian Astral Projection Techniqu...\n",
       "2    File Name: Xalaxian_Aurora-Equivalent_Energy_E...\n",
       "3    File Name: Xalaxian_Aurora-like_Phenomena.pdf\\...\n",
       "4    File Name: Xalaxian Binary Star Energy Harvest...\n",
       "..                                                 ...\n",
       "99   File Name: Xalaxian Tranquil Energy Expanse Re...\n",
       "100  File Name: Xalaxian_Twilight_Adaptation_Mechan...\n",
       "101  File Name: Xalaxian_Twilight_Sky_Phenomena.pdf...\n",
       "102  File Name: Xalaxian Universal Ethics Framework...\n",
       "103  File Name: Xalaxian Visual Phenomena Analysis\\...\n",
       "\n",
       "[104 rows x 1 columns]"
      ]
     },
     "execution_count": 14,
     "metadata": {},
     "output_type": "execute_result"
    }
   ],
   "source": [
    "base_path = '../data/raw/dataset/'\n",
    "content = []\n",
    "with os.scandir(base_path) as entries:\n",
    "    for entry in entries:\n",
    "        if entry.name.endswith(\".pdf\"):\n",
    "            text = extract_text_from_pdf(base_path+entry.name)\n",
    "            content.append(text)\n",
    "        elif entry.name.endswith(\".txt\"):\n",
    "            id = lambda x: x\n",
    "            file = open(base_path+entry.name,\"r+\", encoding=\"utf8\")\n",
    "            lines = file.readlines()\n",
    "            text = ' '.join(lines)\n",
    "            content.append(text)\n",
    "            file.close()\n",
    "            \n",
    "dataset = {'document': content}\n",
    "df = pd.DataFrame(dataset)\n",
    "df"
   ]
  },
  {
   "cell_type": "code",
   "execution_count": 17,
   "metadata": {},
   "outputs": [],
   "source": [
    "grouped_sentences = group(content, group_size=3, stride=1)"
   ]
  },
  {
   "cell_type": "code",
   "execution_count": 18,
   "metadata": {},
   "outputs": [],
   "source": [
    "questions = [\"Who are the Xalaxians?\", \"How can be achieved the astral projection?\", \"Is it possible to control climate?\", \"What is Comunal Memory?\"]\n",
    "answers = {}"
   ]
  },
  {
   "cell_type": "code",
   "execution_count": 25,
   "metadata": {},
   "outputs": [],
   "source": [
    "def get_answers(grouped_sentences, questions):\n",
    "    answers = {}\n",
    "    for group in grouped_sentences:\n",
    "        context = \"\\n\".join(group)\n",
    "        for question in questions:\n",
    "            answer, score = predict_answer(context, question)\n",
    "            if answer:\n",
    "                print(answer)\n",
    "                if question not in answers:\n",
    "                    answers[question] = (answer, score)\n",
    "                else:\n",
    "                    if score > answers[question][1]:\n",
    "                        answers[question] = (answer, score)\n",
    "    return answers"
   ]
  },
  {
   "cell_type": "code",
   "execution_count": 26,
   "metadata": {},
   "outputs": [
    {
     "name": "stdout",
     "output_type": "stream",
     "text": [
      "[CLS] How can be achieved the astral projection? [SEP] File Name : Xalaxian _ Aurora - Equivalent _ Energy _ Expressions. pdf Description : This document outlines the Xalaxian equivalent of Aurora energy expressions, as well as their uses in interstellar travel. Data : - The Xalaxian Aurora - equivalent energy expression is a form of hyper - dimensional energy manipulation, allowing for instantaneous access to distant locations in the universe. - The energy is generated from a particular type of crystal, known as a ‘ transdimensic ’ crystal, and is capable of creating a ‘ warp tunnel ’\n",
      "[CLS] How can be achieved the astral projection? [SEP] File Name : Xalaxian Binary Star Energy Harvesting Description : This document explores the Xalaxians ' energy harvesting techniques, specifically in regards to binary star systems. Data : - The Xalaxians have developed a method of harvesting energy from binary star systems, utilizing the stars ' radiation to fuel their interstellar vessels and power their advanced technology. - This energy harvesting technique involves positioning a vessel at a specific, strategic distance from the two stars in order to capture their gravitational pull\n",
      "[CLS] How can be achieved the astral projection? [SEP] File Name : Xalaxian Binary Star Understanding Description : This document outlines the Xalaxians ' unique understanding of binary stars, which has been derived from their exploration of the cosmos. Data : - The Xalaxians have determined that binary stars are formed when two stars of similar mass gravitationally interact and become locked in an orbital dance around a common center of mass. - The binary stars interact via tidal forces, which are responsible for the exchange of angular momentum and mass between the two stars. - The stars can interact in a variety of ways, such as merging, exchanging mass, or disrupting each other ’ s orbit\n",
      "[CLS] How can be achieved the astral projection? [SEP] File Name : Xalaxian _ Collective _ Consciousness _ Impacts. pdf Description : This document provides an overview of the impact of Xalaxian collective consciousness on their society and culture. Data : - The Xalaxian collective consciousness is a phenomenon whereby Xalaxians have the ability to share thoughts and memories with each other without speaking\n",
      "The system is able to coordinate with the Xalaxian ’ s communal consciousness, allowing for a true symbiosis between the planet and its inhabitants\n",
      "the transference technique allows for the instantaneous transfer of consciousness between two life forms. Data : - The technique involves two separate components, the ‘ sender ’ and the ‘ receiver ’. The sender ’ s consciousness is transferred to the receiver, while the receiver ’ s consciousness remains in their body. - The process is facilitated by a special machine, designed to synchronize the two bodies ’ biometrics and establish a connection between them. - Once the connection is established, the sender ’ s consciousness is seamlessly transferred to the receiver ’ s body, allowing them to experience the sender ’ s memories, knowledge, and skills. - The process is completely reversible, allowing for the recipient to return the sender ’ s consciousness to their original body\n",
      "[CLS] Who are the Xalaxians? [SEP] File Name : Xalaxian Cosmic Entity Relationships Description : This document reviews the various relationships that the Xalaxians have developed with other cosmic entities in their universe. Data : - The Xalaxians are known for their peaceful interactions with other species, often engaging in mutually beneficial exchanges of knowledge and resources. - They are also known to be respectful of boundaries, rarely interfering in the affairs of other civilizations unless invited to do so. - The Xalaxians have formed several alliances with other species\n",
      "manipulate and interact with energy at a fundamental level, enabling them to traverse vast cosmic distances and manipulate space - time\n",
      "[CLS] Who are the Xalaxians? [SEP] File Name : Xalaxian Energy Resilience Description : This document outlines the Xalaxian ' s remarkable energy resilience, which allows them to withstand extreme environmental conditions. Data : - The Xalaxians possess a superior level of energy resilience compared to most species\n",
      "weather control\n",
      "a species of primitive aquatic creatures\n",
      "energy manipulation\n",
      "[CLS] Who are the Xalaxians? [SEP] File Name : Xalaxian Extraterrestrial Ecology Description : This document outlines the Xalaxians ' unique ecosystem, detailing the various flora and fauna they have encountered during their interstellar explorations. Data : - The Xalaxians have encountered a variety of extraterrestrial lifeforms during their interstellar explorations. - These lifeforms include both plant and animal species\n",
      "high density energy lifeforms\n",
      "a species of advanced extraterrestrials\n",
      "Group consciousness\n",
      "Group consciousness\n",
      "[CLS] Who are the Xalaxians? [SEP] File Name : Xalaxian Linguistic Systems Description : This document outlines the Xalaxian language system, its complexities, and the various dialects spoken throughout their vast empire. Data : - The Xalaxian language is composed of a diverse range of dialects, each with their own distinct characteristics. - The three primary dialects are Terranic, Inter - Xalaxian, and Exotic. - Terranic is the language of the Xalaxian homeworld and is the most widely spoken dialect. - Inter - Xalaxian is used to communicate between Xalaxians of different worlds and is characterized by its complex syntax. - Exotic is the dialect spoken by the Xalaxian elite\n",
      "[CLS] Who are the Xalaxians? [SEP] File Name : Xalaxian Nutrient Absorption Processes Description : This document outlines the extraordinary nutrient absorption processes of the Xalaxians, which use energy - based means to source the required sustenance for their species. Data : - Xalaxians are able to absorb nutrients from their environment in an energy - based form. - This absorption process is facilitated by a specialized organ located at the center of their bodies, which is capable of converting energy into the required nutrients. - The organ is powered by a combination of natural energy sources, such as solar and thermal energy, as well as energy generated by the Xalaxian themselves\n",
      "[CLS] How can be achieved the astral projection? [SEP] File Name : Xalaxian Planetary Energy - Matter Interaction Description : This document outlines the intricate design and functionality of the Xalaxians ' planetary energy - matter interaction technology. This technology enables the manipulation of energy - matter interactions to construct and shape the environment of a planet, enabling them to terraform planets and create new habitable environments. Data : - The technology revolves around the manipulation of energy - matter interactions, allowing the Xalaxians to terraform planets and build new habitats from existing planetary matter. - The manipulation of energy - matter interactions is achieved via the use of advanced energy manipulation devices\n",
      "The astral force is harnessed through a series of energy conduits and fields\n",
      "[CLS] How can be achieved the astral projection? [SEP] File Name : Xalaxian Spatial Manipulation Description : This document examines the advanced spatial manipulation capabilities of the Xalaxians. Enabled by their intricate knowledge of space - time, the Xalaxians are able to traverse vast distances in the blink of an eye. Data : - The Xalaxians manipulate space - time through the utilization of an energy - based form of travel. - This form of travel allows them to traverse space almost instantaneously, allowing them to reach destinations light - years away in mere seconds\n",
      "an advanced civilization\n",
      "[CLS] How can be achieved the astral projection? [SEP] File Name : Xalaxian _ Tranquil _ Energy _ Biome _ Lifeforms. pdf Description : This document outlines the Xalaxians ' unique tranquil energy biome lifeforms and their relation to Xalaxian society. Data : - The Xalaxians use their advanced technology to create tranquil energy biomes, which house a number of unique lifeforms. - These lifeforms are made up of energy and light particles, and as such, are able to manipulate and manipulate energy fields\n"
     ]
    },
    {
     "data": {
      "text/plain": [
       "{'How can be achieved the astral projection?': ('energy manipulation',\n",
       "  0.5457387566566467),\n",
       " 'Who are the Xalaxians?': ('a species of advanced extraterrestrials',\n",
       "  0.9828792810440063),\n",
       " 'Is it possible to control climate?': ('weather control',\n",
       "  0.41645583510398865),\n",
       " 'What is Comunal Memory?': ('Group consciousness', 0.7157465815544128)}"
      ]
     },
     "execution_count": 26,
     "metadata": {},
     "output_type": "execute_result"
    }
   ],
   "source": [
    "get_answers(grouped_sentences, questions)"
   ]
  }
 ],
 "metadata": {
  "kernelspec": {
   "display_name": "Python 3.11.5 ('xalaxians_env')",
   "language": "python",
   "name": "python3"
  },
  "language_info": {
   "codemirror_mode": {
    "name": "ipython",
    "version": 3
   },
   "file_extension": ".py",
   "mimetype": "text/x-python",
   "name": "python",
   "nbconvert_exporter": "python",
   "pygments_lexer": "ipython3",
   "version": "3.11.5"
  },
  "orig_nbformat": 4,
  "vscode": {
   "interpreter": {
    "hash": "b94f8552009d7fcb73af2742ecfa37a7f8bbb6f8e5c677622085453cebaad380"
   }
  }
 },
 "nbformat": 4,
 "nbformat_minor": 2
}
