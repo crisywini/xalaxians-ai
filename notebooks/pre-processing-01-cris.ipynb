{
 "cells": [
  {
   "cell_type": "markdown",
   "metadata": {},
   "source": [
    "### Require dependencies"
   ]
  },
  {
   "cell_type": "code",
   "execution_count": 1,
   "metadata": {},
   "outputs": [],
   "source": [
    "from PyPDF2 import PdfReader"
   ]
  },
  {
   "cell_type": "markdown",
   "metadata": {},
   "source": [
    "## How to extract text from pdf"
   ]
  },
  {
   "cell_type": "code",
   "execution_count": 13,
   "metadata": {},
   "outputs": [],
   "source": [
    "def extract_text_from_pdf(url: str) -> str:\n",
    "    # creating a pdf reader object\n",
    "    reader = PdfReader(url)\n",
    "    \n",
    "    # printing number of pages in pdf file\n",
    "    print(len(reader.pages))\n",
    "    text = ''    \n",
    "    for page_num in range(len(reader.pages)):\n",
    "        # Extract text from the current page\n",
    "        page = reader.pages[page_num]\n",
    "        text += page.extract_text()\n",
    "    return text\n"
   ]
  },
  {
   "cell_type": "code",
   "execution_count": 14,
   "metadata": {},
   "outputs": [
    {
     "name": "stdout",
     "output_type": "stream",
     "text": [
      "1\n",
      "File Name: Xalaxian Advanced Materials Science\n",
      "Description: This document outlines the Xalaxians' cutting-edge materials science \n",
      "technology. The materials produced possess remarkable properties, such as \n",
      "enhanced durability, strength, and flexibility, making them ideal for a variety of \n",
      "applications.\n",
      "Data: \n",
      "- The Xalaxians have developed a suite of advanced materials suitable for a \n",
      "variety of applications.\n",
      "- These materials are composed of a network of nanoscale particles, each \n",
      "possessing unique properties and molecular structures.\n",
      "- The material is incredibly strong and flexible, resistant to extreme temperatures, \n",
      "and capable of withstanding immense stresses.\n",
      "- The material is also highly conductive, allowing for efficient energy transfer and \n",
      "storage.\n",
      "- Its malleability allows it to be formed into a variety of shapes and sizes.\n",
      "In-depth Analysis:\n",
      "The Xalaxians' advanced materials science technology represents a remarkable \n",
      "breakthrough, offering an impressive level of durability and functionality. The \n",
      "material's ability to resist extreme temperatures and stresses makes it ideal for a \n",
      "variety of engineering applications, such as aerospace and defense.\n",
      "The material's conductive properties could also be exploited to improve energy \n",
      "transfer and storage capabilities, particularly in renewable energy sources. Its \n",
      "malleability could also enable the development of components to be used in fields \n",
      "such as robotics and artificial intelligence.\n",
      "Finally, the material could be used to create advanced structural components for \n",
      "terrestrial and extraterrestrial infrastructures. This could be especially beneficial \n",
      "for the latter, as the extreme environments of space require materials of greater \n",
      "resilience.\n",
      "Overall, the Xalaxians' advanced materials science technology presents a vast \n",
      "array of potential applications, making it a valuable asset for both Earth and \n",
      "extraterrestrial civilizations. Research into the material's composition and \n",
      "capabilities should be conducted with urgency to maximize its potential.\n"
     ]
    }
   ],
   "source": [
    "\n",
    "print(extract_text_from_pdf('../data/raw/dataset/Xalaxian_Advanced_Materials_Science.pdf'))"
   ]
  }
 ],
 "metadata": {
  "kernelspec": {
   "display_name": "Python 3.9.16 ('base')",
   "language": "python",
   "name": "python3"
  },
  "language_info": {
   "codemirror_mode": {
    "name": "ipython",
    "version": 3
   },
   "file_extension": ".py",
   "mimetype": "text/x-python",
   "name": "python",
   "nbconvert_exporter": "python",
   "pygments_lexer": "ipython3",
   "version": "3.9.16"
  },
  "orig_nbformat": 4,
  "vscode": {
   "interpreter": {
    "hash": "19d1d53a962d236aa061289c2ac16dc8e6d9648c89fe79f459ae9a3493bc67b4"
   }
  }
 },
 "nbformat": 4,
 "nbformat_minor": 2
}
